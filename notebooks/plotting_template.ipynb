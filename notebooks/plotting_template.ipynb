{
 "cells": [
  {
   "cell_type": "code",
   "execution_count": null,
   "source": [
    "import os\n",
    "import pickle\n",
    "from collections import Counter\n",
    "\n",
    "import cartopy.crs as ccrs\n",
    "import cartopy.feature as cfeature\n",
    "import cmocean as cmo\n",
    "import matplotlib.pyplot as plt\n",
    "import numpy as np\n",
    "import pandas as pd\n",
    "import salem\n",
    "import seaborn as sns\n",
    "from dmelon import plotting, utils\n",
    "from matplotlib import colors as c\n",
    "from matplotlib.colors import BoundaryNorm\n",
    "from matplotlib.ticker import MaxNLocator\n",
    "from tqdm.notebook import tqdm\n",
    "\n",
    "import xarray as xr"
   ],
   "outputs": [],
   "metadata": {
    "tags": []
   }
  },
  {
   "cell_type": "code",
   "execution_count": null,
   "source": [
    "settings = None"
   ],
   "outputs": [],
   "metadata": {
    "tags": [
     "parameters"
    ]
   }
  },
  {
   "cell_type": "code",
   "execution_count": null,
   "source": [
    "settings = utils.load_json(settings)"
   ],
   "outputs": [],
   "metadata": {
    "tags": []
   }
  },
  {
   "cell_type": "code",
   "execution_count": null,
   "source": [
    "MONTH = settings[\"MONTH\"]\n",
    "DATA_DIR = settings[\"DATA_DIR\"]\n",
    "MONTH_DIR = os.path.join(DATA_DIR, f\"{settings['INIT_MONTH']}.{MONTH}\")\n",
    "VALIDATION_DIR = os.path.join(MONTH_DIR, \"validation\")\n",
    "NC_DIR = os.path.join(MONTH_DIR, \"Data\")\n",
    "PLOTS_DIR = os.path.join(MONTH_DIR, \"plots\")\n",
    "\n",
    "utils.check_folder(PLOTS_DIR)"
   ],
   "outputs": [],
   "metadata": {
    "tags": []
   }
  },
  {
   "cell_type": "code",
   "execution_count": null,
   "source": [
    "MONTHS_ORDER = [10, 11, 12, 1, 2, 3, 4]"
   ],
   "outputs": [],
   "metadata": {}
  },
  {
   "cell_type": "code",
   "execution_count": null,
   "source": [
    "pred_data = xr.open_dataset(os.path.join(NC_DIR, \"pred_data.nc\")).pred_data\n",
    "\n",
    "metric_data = xr.open_dataset(os.path.join(NC_DIR, \"metric_data.nc\")).metric_data\n",
    "\n",
    "metric2_data = xr.open_dataset(os.path.join(NC_DIR, \"metric2_data.nc\")).metric2_data\n",
    "\n",
    "nvar_data = xr.open_dataset(os.path.join(NC_DIR, \"nvar_data.nc\")).nvar_data\n",
    "\n",
    "pred_data_val = xr.open_dataset(os.path.join(NC_DIR, \"pred_data_val.nc\")).pred_data_val\n",
    "\n",
    "thresh_data = xr.open_dataset(os.path.join(NC_DIR, \"thresh_data.nc\")).thresh_data\n",
    "\n",
    "with open(os.path.join(NC_DIR, \"model_data.pickle\"), \"rb\") as handle:\n",
    "    model_data = pickle.load(handle)"
   ],
   "outputs": [],
   "metadata": {
    "tags": []
   }
  },
  {
   "cell_type": "code",
   "execution_count": null,
   "source": [
    "predictors = pd.read_excel(\n",
    "    os.path.join(settings[\"MODEL_SRC\"], settings[\"PREDICTORS\"]), index_col=[0]\n",
    ")\n",
    "predictors.head()"
   ],
   "outputs": [],
   "metadata": {
    "tags": []
   }
  },
  {
   "cell_type": "code",
   "execution_count": null,
   "source": [
    "pisco = xr.open_dataset(settings[\"PISCO_DATA\"], decode_times=False).rename(\n",
    "    {\"X\": \"lon\", \"Y\": \"lat\", \"T\": \"time\"}\n",
    ")\n",
    "pisco.time.attrs[\"calendar\"] = \"360_day\"\n",
    "pisco = xr.decode_cf(pisco).Prec\n",
    "pisco[\"time\"] = pd.date_range(\"1981-01\", \"2016-12\", freq=\"MS\") + pd.DateOffset(days=14)\n",
    "pisco = pisco.sel(time=slice(\"1981-10-01\", \"2016-05-01\"))\n",
    "pisco"
   ],
   "outputs": [],
   "metadata": {
    "tags": []
   }
  },
  {
   "cell_type": "code",
   "execution_count": null,
   "source": [
    "mask = np.where(pisco.isel(time=0) >= 0, 1, np.nan)"
   ],
   "outputs": [],
   "metadata": {
    "tags": []
   }
  },
  {
   "cell_type": "code",
   "execution_count": null,
   "source": [
    "no_neg = pred_data.where(pred_data >= 0)\n",
    "no_neg_val = pred_data_val.where(pred_data_val >= 0, 0) * mask"
   ],
   "outputs": [],
   "metadata": {
    "tags": []
   }
  },
  {
   "cell_type": "code",
   "execution_count": null,
   "source": [
    "fig, axs = plt.subplots(\n",
    "    figsize=(6, 4),\n",
    "    dpi=300,\n",
    "    ncols=4,\n",
    "    nrows=2,\n",
    "    sharey=True,\n",
    "    subplot_kw={\"projection\": ccrs.PlateCarree()},\n",
    ")\n",
    "\n",
    "levels = MaxNLocator(nbins=6).tick_values(0.4, 1)\n",
    "cmap = cmo.cm.thermal\n",
    "cmap.set_under(color=\"white\")\n",
    "norm = BoundaryNorm(levels, ncolors=cmap.N, clip=False)\n",
    "\n",
    "for num, month in enumerate(MONTHS_ORDER):\n",
    "    ax = axs.ravel()[num]\n",
    "    p = ax.pcolormesh(\n",
    "        metric_data.lon.data,\n",
    "        metric_data.lat.data,\n",
    "        (metric_data.sel(month=month).data) ** (0.5),\n",
    "        cmap=cmap,\n",
    "        norm=norm,\n",
    "        transform=ccrs.PlateCarree(),\n",
    "        vmin=0.4,\n",
    "        vmax=1,\n",
    "    )\n",
    "    ax.set_title(f\"Target Month {month:02d}\", size=6)\n",
    "    plotting.format_latlon(ax, ccrs.PlateCarree(), lon_step=5, lat_step=5)\n",
    "    ax.add_feature(cfeature.BORDERS)\n",
    "    ax.add_feature(cfeature.COASTLINE)\n",
    "    ax.set_extent((-81.25, -68.05, -18.75, 0.95), crs=ccrs.PlateCarree())\n",
    "    ax.tick_params(axis=\"both\", labelsize=5)\n",
    "    ax.gridlines(linewidth=0.5, linestyle=\"--\", alpha=0.5)\n",
    "fig.suptitle(\"Correlation Coefficient (R)\", y=0.95)\n",
    "fig.delaxes(ax=axs.ravel().tolist()[-1])\n",
    "fig.colorbar(p, ax=axs.ravel().tolist(), extend=\"min\")\n",
    "fig.savefig(\n",
    "    os.path.join(PLOTS_DIR, \"metric_correlation_plot.png\"),\n",
    "    bbox_inches=\"tight\",\n",
    ")"
   ],
   "outputs": [],
   "metadata": {
    "tags": []
   }
  },
  {
   "cell_type": "code",
   "execution_count": null,
   "source": [
    "fig, axs = plt.subplots(\n",
    "    figsize=(6, 4),\n",
    "    dpi=300,\n",
    "    ncols=4,\n",
    "    nrows=2,\n",
    "    sharey=True,\n",
    "    subplot_kw={\"projection\": ccrs.PlateCarree()},\n",
    ")\n",
    "\n",
    "levels = MaxNLocator(nbins=6).tick_values(0.4, 1)\n",
    "cmap = cmo.cm.thermal\n",
    "cmap.set_under(color=\"white\")\n",
    "norm = BoundaryNorm(levels, ncolors=cmap.N, clip=False)\n",
    "\n",
    "for num, month in enumerate(MONTHS_ORDER):\n",
    "    ax = axs.ravel()[num]\n",
    "    p = ax.pcolormesh(\n",
    "        metric2_data.lon.data,\n",
    "        metric2_data.lat.data,\n",
    "        metric2_data.sel(month=month).data,\n",
    "        cmap=cmap,\n",
    "        norm=norm,\n",
    "        transform=ccrs.PlateCarree(),\n",
    "        vmin=0,\n",
    "        vmax=1,\n",
    "    )\n",
    "    ax.set_title(f\"Target Month {month:02d}\", size=6)\n",
    "    plotting.format_latlon(ax, ccrs.PlateCarree(), lon_step=5, lat_step=5)\n",
    "    ax.add_feature(cfeature.BORDERS)\n",
    "    ax.add_feature(cfeature.COASTLINE)\n",
    "    ax.set_extent((-81.25, -68.05, -18.75, 0.95), crs=ccrs.PlateCarree())\n",
    "    ax.tick_params(axis=\"both\", labelsize=5)\n",
    "    ax.gridlines(linewidth=0.5, linestyle=\"--\", alpha=0.5)\n",
    "fig.suptitle(\"Adjusted Coefficient of Determination (R2_adj)\", y=0.95)\n",
    "fig.delaxes(ax=axs.ravel().tolist()[-1])\n",
    "fig.colorbar(p, ax=axs.ravel().tolist(), extend=\"min\")\n",
    "fig.savefig(\n",
    "    os.path.join(PLOTS_DIR, \"metric_r2adj_plot.png\"),\n",
    "    bbox_inches=\"tight\",\n",
    ")"
   ],
   "outputs": [],
   "metadata": {
    "tags": []
   }
  },
  {
   "cell_type": "code",
   "execution_count": null,
   "source": [
    "fig, axs = plt.subplots(\n",
    "    figsize=(6, 4),\n",
    "    dpi=300,\n",
    "    ncols=4,\n",
    "    nrows=2,\n",
    "    sharey=True,\n",
    "    subplot_kw={\"projection\": ccrs.PlateCarree()},\n",
    ")\n",
    "\n",
    "levels = MaxNLocator(nbins=10).tick_values(0, 0.1)\n",
    "cmap = cmo.cm.thermal_r\n",
    "norm = BoundaryNorm(levels, ncolors=cmap.N, clip=True)\n",
    "\n",
    "for num, month in enumerate(MONTHS_ORDER):\n",
    "    ax = axs.ravel()[num]\n",
    "    p = ax.pcolormesh(\n",
    "        thresh_data.lon.data,\n",
    "        thresh_data.lat.data,\n",
    "        thresh_data.sel(month=month).data,\n",
    "        cmap=cmap,\n",
    "        transform=ccrs.PlateCarree(),\n",
    "        norm=norm,\n",
    "    )\n",
    "    ax.set_title(f\"Target Month {month:02d}\", size=6)\n",
    "    plotting.format_latlon(ax, ccrs.PlateCarree(), lon_step=5, lat_step=5)\n",
    "    ax.add_feature(cfeature.BORDERS)\n",
    "    ax.add_feature(cfeature.COASTLINE)\n",
    "    ax.set_extent((-81.25, -68.05, -18.75, 0.95), crs=ccrs.PlateCarree())\n",
    "    ax.tick_params(axis=\"both\", labelsize=5)\n",
    "    ax.gridlines(linewidth=0.5, linestyle=\"--\", alpha=0.5)\n",
    "fig.suptitle(\"Significance level\", y=0.95)\n",
    "fig.delaxes(ax=axs.ravel().tolist()[-1])\n",
    "cbar = fig.colorbar(p, ax=axs.ravel().tolist())\n",
    "cbar.ax.invert_yaxis()\n",
    "fig.savefig(\n",
    "    os.path.join(PLOTS_DIR, \"metric_siglevel_plot.png\"),\n",
    "    bbox_inches=\"tight\",\n",
    ")"
   ],
   "outputs": [],
   "metadata": {
    "tags": []
   }
  },
  {
   "cell_type": "code",
   "execution_count": null,
   "source": [
    "fig, axs = plt.subplots(figsize=(10, 4), ncols=4, nrows=2, dpi=300, sharey=True)\n",
    "\n",
    "for num, month in enumerate(MONTHS_ORDER):\n",
    "    flat_data = nvar_data.where(thresh_data <= 0.05).sel(month=month).data.flatten()\n",
    "    flat_data = flat_data[~np.isnan(flat_data)].astype(int)\n",
    "    flat_count = Counter(flat_data)\n",
    "    flat_df = pd.DataFrame(columns=range(0, 20), index=[\"count\"])\n",
    "    for key, item in flat_count.items():\n",
    "        flat_df[key] = item\n",
    "    ax = axs.ravel()[num]\n",
    "    sns.barplot(\n",
    "        data=flat_df[list(range(17))],\n",
    "        ax=ax,\n",
    "    )\n",
    "    ax.tick_params(axis=\"both\", labelsize=5)\n",
    "    ax.set_title(f\"Target Month {month:02d}\", size=6)\n",
    "    ax.grid(ls=\"--\", alpha=0.5)\n",
    "\n",
    "\n",
    "fig.text(0.5, 0, \"# Variables used\", va=\"center\", ha=\"center\")\n",
    "fig.text(0, 0.5, \"Count\", va=\"center\", ha=\"center\", rotation=\"vertical\")\n",
    "\n",
    "fig.suptitle(\"Number of variables used\")\n",
    "fig.delaxes(ax=axs.ravel().tolist()[-1])\n",
    "fig.tight_layout()\n",
    "fig.savefig(\n",
    "    os.path.join(PLOTS_DIR, \"nvar_plot.png\"),\n",
    "    bbox_inches=\"tight\",\n",
    ")"
   ],
   "outputs": [],
   "metadata": {
    "tags": []
   }
  },
  {
   "cell_type": "code",
   "execution_count": null,
   "source": [
    "bias = (\n",
    "    (no_neg_val.sel(time=slice(None, \"2016-05-01\")) - pisco)\n",
    "    .groupby(\"time.month\")\n",
    "    .mean()\n",
    ")\n",
    "\n",
    "fig, axs = plt.subplots(\n",
    "    figsize=(6, 4),\n",
    "    dpi=300,\n",
    "    ncols=4,\n",
    "    nrows=2,\n",
    "    sharey=True,\n",
    "    subplot_kw={\"projection\": ccrs.PlateCarree()},\n",
    ")\n",
    "\n",
    "for num, month in enumerate(MONTHS_ORDER):\n",
    "    ax = axs.ravel().tolist()[num]\n",
    "    p = ax.pcolormesh(\n",
    "        bias.lon.data,\n",
    "        bias.lat.data,\n",
    "        bias.sel(month=month).data,\n",
    "        cmap=cmo.cm.balance,\n",
    "        transform=ccrs.PlateCarree(),\n",
    "        vmax=10,\n",
    "        vmin=-10,\n",
    "    )\n",
    "    ax.set_title(f\"Target Month {month:02d}\", size=6)\n",
    "    plotting.format_latlon(ax, ccrs.PlateCarree(), lon_step=5, lat_step=5)\n",
    "    ax.add_feature(cfeature.BORDERS)\n",
    "    ax.add_feature(cfeature.COASTLINE)\n",
    "    ax.set_extent((-81.25, -68.05, -18.75, 0.95), crs=ccrs.PlateCarree())\n",
    "    ax.tick_params(axis=\"both\", labelsize=5)\n",
    "    ax.gridlines(linewidth=0.5, linestyle=\"--\", alpha=0.5)\n",
    "fig.colorbar(p, ax=axs.ravel().tolist(), extend=\"both\")\n",
    "fig.suptitle(\"Mean Bias (Validation Model - PISCOPrecv2p1) [mm]\")\n",
    "fig.delaxes(ax=axs.ravel().tolist()[-1])\n",
    "fig.savefig(\n",
    "    os.path.join(PLOTS_DIR, \"val_pisco_bias_plot.png\"),\n",
    "    bbox_inches=\"tight\",\n",
    ")"
   ],
   "outputs": [],
   "metadata": {
    "tags": []
   }
  },
  {
   "cell_type": "code",
   "execution_count": null,
   "source": [
    "bias = (\n",
    "    (no_neg_val.sel(time=slice(None, \"2016-05-01\")) - pisco)\n",
    "    .groupby(\"time.month\")\n",
    "    .mean()\n",
    "    * 100\n",
    ") / pisco.groupby(\"time.month\").mean()\n",
    "\n",
    "fig, axs = plt.subplots(\n",
    "    figsize=(6, 4),\n",
    "    dpi=300,\n",
    "    ncols=4,\n",
    "    nrows=2,\n",
    "    sharey=True,\n",
    "    subplot_kw={\"projection\": ccrs.PlateCarree()},\n",
    ")\n",
    "\n",
    "for num, month in enumerate(MONTHS_ORDER):\n",
    "    ax = axs.ravel().tolist()[num]\n",
    "    p = ax.pcolormesh(\n",
    "        bias.lon.data,\n",
    "        bias.lat.data,\n",
    "        bias.sel(month=month).data,\n",
    "        cmap=cmo.cm.balance,\n",
    "        transform=ccrs.PlateCarree(),\n",
    "        vmax=20,\n",
    "        vmin=-20,\n",
    "    )\n",
    "    ax.set_title(f\"Target Month {month:02d}\", size=6)\n",
    "    plotting.format_latlon(ax, ccrs.PlateCarree(), lon_step=5, lat_step=5)\n",
    "    ax.add_feature(cfeature.BORDERS)\n",
    "    ax.add_feature(cfeature.COASTLINE)\n",
    "    ax.set_extent((-81.25, -68.05, -18.75, 0.95), crs=ccrs.PlateCarree())\n",
    "    ax.tick_params(axis=\"both\", labelsize=5)\n",
    "    ax.gridlines(linewidth=0.5, linestyle=\"--\", alpha=0.5)\n",
    "fig.colorbar(p, ax=axs.ravel().tolist(), extend=\"both\")\n",
    "fig.suptitle(\"Mean Bias (Validation Model - PISCOPrecv2p1) [%]\")\n",
    "fig.delaxes(ax=axs.ravel().tolist()[-1])\n",
    "fig.savefig(\n",
    "    os.path.join(PLOTS_DIR, \"val_pisco_bias_perc_plot.png\"),\n",
    "    bbox_inches=\"tight\",\n",
    ")"
   ],
   "outputs": [],
   "metadata": {
    "tags": []
   }
  },
  {
   "cell_type": "code",
   "execution_count": null,
   "source": [
    "mae = (\n",
    "    np.abs(no_neg_val.sel(time=slice(None, \"2016-05-01\")) - pisco)\n",
    "    .groupby(\"time.month\")\n",
    "    .mean()\n",
    ")\n",
    "\n",
    "fig, axs = plt.subplots(\n",
    "    figsize=(6, 4),\n",
    "    dpi=300,\n",
    "    ncols=4,\n",
    "    nrows=2,\n",
    "    sharey=True,\n",
    "    subplot_kw={\"projection\": ccrs.PlateCarree()},\n",
    ")\n",
    "\n",
    "for num, month in enumerate(MONTHS_ORDER):\n",
    "    ax = axs.ravel().tolist()[num]\n",
    "    p = ax.pcolormesh(\n",
    "        mae.lon.data,\n",
    "        mae.lat.data,\n",
    "        mae.sel(month=month).data,\n",
    "        cmap=cmo.cm.tempo,\n",
    "        transform=ccrs.PlateCarree(),\n",
    "        vmax=100,\n",
    "        vmin=0,\n",
    "    )\n",
    "    ax.set_title(f\"Target Month {month:02d}\", size=6)\n",
    "    plotting.format_latlon(ax, ccrs.PlateCarree(), lon_step=5, lat_step=5)\n",
    "    ax.add_feature(cfeature.BORDERS)\n",
    "    ax.add_feature(cfeature.COASTLINE)\n",
    "    ax.set_extent((-81.25, -68.05, -18.75, 0.95), crs=ccrs.PlateCarree())\n",
    "    ax.tick_params(axis=\"both\", labelsize=5)\n",
    "    ax.gridlines(linewidth=0.5, linestyle=\"--\", alpha=0.5)\n",
    "fig.colorbar(p, ax=axs.ravel().tolist(), extend=\"max\")\n",
    "fig.suptitle(\"MAE (Validation Model - PISCOPrecv2p1) [mm]\")\n",
    "fig.delaxes(ax=axs.ravel().tolist()[-1])\n",
    "fig.savefig(\n",
    "    os.path.join(PLOTS_DIR, \"val_pisco_mae_plot.png\"),\n",
    "    bbox_inches=\"tight\",\n",
    ")"
   ],
   "outputs": [],
   "metadata": {
    "tags": []
   }
  },
  {
   "cell_type": "code",
   "execution_count": null,
   "source": [
    "mae = (\n",
    "    np.abs(no_neg_val.sel(time=slice(None, \"2016-05-01\")) - pisco)\n",
    "    .groupby(\"time.month\")\n",
    "    .mean()\n",
    "    * 100\n",
    ") / pisco.groupby(\"time.month\").mean()\n",
    "\n",
    "fig, axs = plt.subplots(\n",
    "    figsize=(6, 4),\n",
    "    dpi=300,\n",
    "    ncols=4,\n",
    "    nrows=2,\n",
    "    sharey=True,\n",
    "    subplot_kw={\"projection\": ccrs.PlateCarree()},\n",
    ")\n",
    "\n",
    "for num, month in enumerate(MONTHS_ORDER):\n",
    "    ax = axs.ravel().tolist()[num]\n",
    "    p = ax.pcolormesh(\n",
    "        mae.lon.data,\n",
    "        mae.lat.data,\n",
    "        mae.sel(month=month).data,\n",
    "        cmap=cmo.cm.tempo,\n",
    "        transform=ccrs.PlateCarree(),\n",
    "        vmax=100,\n",
    "        vmin=0,\n",
    "    )\n",
    "    ax.set_title(f\"Target Month {month:02d}\", size=6)\n",
    "    plotting.format_latlon(ax, ccrs.PlateCarree(), lon_step=5, lat_step=5)\n",
    "    ax.add_feature(cfeature.BORDERS)\n",
    "    ax.add_feature(cfeature.COASTLINE)\n",
    "    ax.set_extent((-81.25, -68.05, -18.75, 0.95), crs=ccrs.PlateCarree())\n",
    "    ax.tick_params(axis=\"both\", labelsize=5)\n",
    "    ax.gridlines(linewidth=0.5, linestyle=\"--\", alpha=0.5)\n",
    "fig.colorbar(p, ax=axs.ravel().tolist(), extend=\"max\")\n",
    "fig.suptitle(\"MAE (Validation Model - PISCOPrecv2p1) [%]\")\n",
    "fig.delaxes(ax=axs.ravel().tolist()[-1])\n",
    "fig.savefig(\n",
    "    os.path.join(PLOTS_DIR, \"val_pisco_mae_perc_plot.png\"),\n",
    "    bbox_inches=\"tight\",\n",
    ")"
   ],
   "outputs": [],
   "metadata": {
    "tags": []
   }
  },
  {
   "cell_type": "code",
   "execution_count": null,
   "source": [
    "model_data = model_data.dropna(dim=\"month\", how=\"all\")"
   ],
   "outputs": [],
   "metadata": {
    "tags": []
   }
  },
  {
   "cell_type": "code",
   "execution_count": null,
   "source": [
    "month_vars = {}\n",
    "for month in tqdm(model_data.month.data):\n",
    "    month_vars[month] = []\n",
    "    for lat in model_data.lat.data:\n",
    "        for lon in model_data.lon.data:\n",
    "            test_model = model_data.sel(month=month, lat=lat, lon=lon).data.item()\n",
    "            if not isinstance(test_model, float):\n",
    "                month_vars[month] = (\n",
    "                    month_vars[month] + test_model.params.index.to_list()[1:]\n",
    "                )"
   ],
   "outputs": [],
   "metadata": {
    "tags": []
   }
  },
  {
   "cell_type": "code",
   "execution_count": null,
   "source": [
    "month_vars_common = {\n",
    "    month: Counter(data).most_common(13) for month, data in month_vars.items()\n",
    "}"
   ],
   "outputs": [],
   "metadata": {
    "tags": []
   }
  },
  {
   "cell_type": "code",
   "execution_count": null,
   "source": [
    "var_list = []\n",
    "for month, data in month_vars_common.items():\n",
    "    var_list = var_list + list(dict(data).keys())"
   ],
   "outputs": [],
   "metadata": {
    "tags": []
   }
  },
  {
   "cell_type": "code",
   "execution_count": null,
   "source": [
    "colors = sns.color_palette(\"hls\", n_colors=len(set(var_list)))\n",
    "color_mapping = {key: [colors[num]] for num, key in enumerate(set(var_list))}\n",
    "color_mapping = pd.DataFrame(color_mapping, index=[\"color\"])"
   ],
   "outputs": [],
   "metadata": {
    "tags": []
   }
  },
  {
   "cell_type": "code",
   "execution_count": null,
   "source": [
    "fig, axs = plt.subplots(figsize=(10, 6), ncols=4, nrows=2, dpi=300, sharey=True)\n",
    "\n",
    "for num, (month, data) in enumerate(month_vars_common.items()):\n",
    "    plot_data = pd.DataFrame(data, columns=[\"vars\", \"count\"])\n",
    "    plot_data[\"color\"] = color_mapping[plot_data[\"vars\"]].values[0]\n",
    "    ax = axs.ravel()[num]\n",
    "    ax.bar(\n",
    "        x=\"vars\",\n",
    "        height=\"count\",\n",
    "        data=plot_data,\n",
    "        color=plot_data[\"color\"],\n",
    "        edgecolor=\"k\",\n",
    "    )\n",
    "    for item in ax.get_xticklabels():\n",
    "        item.set_rotation(90)\n",
    "    ax.tick_params(axis=\"both\", labelsize=5)\n",
    "    ax.set_title(f\"Target Month {month:02d}\", size=6)\n",
    "\n",
    "\n",
    "fig.text(0.5, 0, \"Variables\", va=\"center\", ha=\"center\")\n",
    "fig.text(0, 0.5, \"Count\", va=\"center\", ha=\"center\", rotation=\"vertical\")\n",
    "\n",
    "fig.suptitle(\"Most common variables per month\")\n",
    "fig.delaxes(ax=axs.ravel().tolist()[-1])\n",
    "fig.tight_layout()\n",
    "fig.savefig(\n",
    "    os.path.join(PLOTS_DIR, \"vars_freq.png\"),\n",
    "    bbox_inches=\"tight\",\n",
    ")"
   ],
   "outputs": [],
   "metadata": {
    "tags": []
   }
  },
  {
   "cell_type": "code",
   "execution_count": null,
   "source": [
    "per_month_maps = {}\n",
    "\n",
    "\n",
    "def create_dataArray(name, month):\n",
    "    return xr.DataArray(\n",
    "        np.nan,\n",
    "        coords=[\n",
    "            (\"month\", [month]),\n",
    "            (\"lat\", model_data.lat.data),\n",
    "            (\"lon\", model_data.lon.data),\n",
    "        ],\n",
    "        name=name,\n",
    "    )\n",
    "\n",
    "\n",
    "for month, data in month_vars_common.items():\n",
    "    per_month_maps[month] = {\n",
    "        var_name: create_dataArray(var_name, month) for var_name in dict(data).keys()\n",
    "    }\n",
    "\n",
    "for month, data in tqdm(per_month_maps.items()):\n",
    "    for lat in tqdm(model_data.lat.data):\n",
    "        for lon in model_data.lon.data:\n",
    "            test_model = model_data.sel(month=month, lat=lat, lon=lon).data.item()\n",
    "            if not isinstance(test_model, float):\n",
    "                for variable, xr_container in data.items():\n",
    "                    if variable in test_model.params.index:\n",
    "                        xr_container.loc[dict(month=month, lat=lat, lon=lon)] = 1"
   ],
   "outputs": [],
   "metadata": {
    "tags": []
   }
  },
  {
   "cell_type": "code",
   "execution_count": null,
   "source": [
    "for month, data in per_month_maps.items():\n",
    "    plot_data = pd.DataFrame(data.keys(), columns=[\"vars\"])\n",
    "    plot_data[\"color\"] = color_mapping[plot_data[\"vars\"]].values[0]\n",
    "\n",
    "    fig, axs = plt.subplots(\n",
    "        figsize=(8, 12),\n",
    "        dpi=300,\n",
    "        ncols=4,\n",
    "        nrows=4,\n",
    "        sharey=True,\n",
    "        subplot_kw={\"projection\": ccrs.PlateCarree()},\n",
    "    )\n",
    "\n",
    "    for num, (var_name, xr_data) in enumerate(data.items()):\n",
    "        ax = axs.ravel().tolist()[num]\n",
    "        p = ax.pcolormesh(\n",
    "            xr_data.lon.data,\n",
    "            xr_data.lat.data,\n",
    "            xr_data.sel(month=month).data,\n",
    "            cmap=c.ListedColormap(plot_data.query(\"vars==@var_name\")[\"color\"]),\n",
    "            transform=ccrs.PlateCarree(),\n",
    "        )\n",
    "\n",
    "        ax.set_title(f\"{var_name}\", size=6)\n",
    "        plotting.format_latlon(ax, ccrs.PlateCarree(), lon_step=5, lat_step=5)\n",
    "        ax.add_feature(cfeature.BORDERS)\n",
    "        ax.add_feature(cfeature.COASTLINE)\n",
    "        ax.set_extent((-81.25, -68.05, -18.75, 0.95), crs=ccrs.PlateCarree())\n",
    "        ax.tick_params(axis=\"both\", labelsize=5)\n",
    "        ax.gridlines(linewidth=0.5, linestyle=\"--\", alpha=0.5)\n",
    "    for ax in axs.ravel().tolist()[-3:]:\n",
    "        fig.delaxes(ax=ax)\n",
    "    fig.suptitle(\n",
    "        f\"Spatial distribution of most common variables in target month {month:02d}\",\n",
    "        y=0.92,\n",
    "    )\n",
    "    fig.savefig(\n",
    "        os.path.join(PLOTS_DIR, f\"vars_dist_month{month:02d}.png\"),\n",
    "        bbox_inches=\"tight\",\n",
    "    )"
   ],
   "outputs": [],
   "metadata": {
    "scrolled": true,
    "tags": []
   }
  },
  {
   "cell_type": "markdown",
   "source": [
    "# PERU - ONLY"
   ],
   "metadata": {}
  },
  {
   "cell_type": "code",
   "execution_count": null,
   "source": [
    "PERU_DIR = os.path.join(PLOTS_DIR, \"PERU\")\n",
    "utils.check_folder(PERU_DIR)"
   ],
   "outputs": [],
   "metadata": {}
  },
  {
   "cell_type": "code",
   "execution_count": null,
   "source": [
    "shsdf = salem.read_shapefile(\n",
    "    \"/data/users/grivera/Shapes/countries/ne_10m_admin_0_countries.shp\"\n",
    ")"
   ],
   "outputs": [],
   "metadata": {
    "tags": []
   }
  },
  {
   "cell_type": "code",
   "execution_count": null,
   "source": [
    "subset_model = model_data.salem.roi(shape=shsdf.query(\"ADMIN == 'Peru'\"))\n",
    "month_vars = {}\n",
    "for month in tqdm(subset_model.month.data):\n",
    "    month_vars[month] = []\n",
    "    for lat in subset_model.lat.data:\n",
    "        for lon in subset_model.lon.data:\n",
    "            test_model = subset_model.sel(month=month, lat=lat, lon=lon).data.item()\n",
    "            if not isinstance(test_model, float):\n",
    "                month_vars[month] = (\n",
    "                    month_vars[month] + test_model.params.index.to_list()[1:]\n",
    "                )"
   ],
   "outputs": [],
   "metadata": {
    "tags": []
   }
  },
  {
   "cell_type": "code",
   "execution_count": null,
   "source": [
    "month_vars_common = {\n",
    "    month: Counter(data).most_common(13) for month, data in month_vars.items()\n",
    "}"
   ],
   "outputs": [],
   "metadata": {
    "tags": []
   }
  },
  {
   "cell_type": "code",
   "execution_count": null,
   "source": [
    "var_list = []\n",
    "for month, data in month_vars_common.items():\n",
    "    var_list = var_list + list(dict(data).keys())"
   ],
   "outputs": [],
   "metadata": {
    "tags": []
   }
  },
  {
   "cell_type": "code",
   "execution_count": null,
   "source": [
    "colors = sns.color_palette(\"hls\", n_colors=len(set(var_list)))\n",
    "color_mapping = {key: [colors[num]] for num, key in enumerate(set(var_list))}\n",
    "color_mapping = pd.DataFrame(color_mapping, index=[\"color\"])"
   ],
   "outputs": [],
   "metadata": {
    "tags": []
   }
  },
  {
   "cell_type": "code",
   "execution_count": null,
   "source": [
    "fig, axs = plt.subplots(figsize=(10, 6), ncols=4, nrows=2, dpi=300, sharey=True)\n",
    "\n",
    "for num, (month, data) in enumerate(month_vars_common.items()):\n",
    "    plot_data = pd.DataFrame(data, columns=[\"vars\", \"count\"])\n",
    "    plot_data[\"color\"] = color_mapping[plot_data[\"vars\"]].values[0]\n",
    "    ax = axs.ravel()[num]\n",
    "    ax.bar(\n",
    "        x=\"vars\",\n",
    "        height=\"count\",\n",
    "        data=plot_data,\n",
    "        color=plot_data[\"color\"],\n",
    "        edgecolor=\"k\",\n",
    "    )\n",
    "    for item in ax.get_xticklabels():\n",
    "        item.set_rotation(90)\n",
    "    ax.tick_params(axis=\"both\", labelsize=5)\n",
    "    ax.set_title(f\"Target Month {month:02d}\", size=6)\n",
    "\n",
    "\n",
    "fig.text(0.5, 0, \"Variables\", va=\"center\", ha=\"center\")\n",
    "fig.text(0, 0.5, \"Count\", va=\"center\", ha=\"center\", rotation=\"vertical\")\n",
    "\n",
    "fig.suptitle(\"Most common variables per month\")\n",
    "fig.delaxes(ax=axs.ravel().tolist()[-1])\n",
    "fig.tight_layout()\n",
    "fig.savefig(\n",
    "    os.path.join(PERU_DIR, \"vars_freq_PERU.png\"),\n",
    "    bbox_inches=\"tight\",\n",
    ")"
   ],
   "outputs": [],
   "metadata": {
    "tags": []
   }
  },
  {
   "cell_type": "code",
   "execution_count": null,
   "source": [
    "per_month_maps = {}\n",
    "\n",
    "\n",
    "for month, data in month_vars_common.items():\n",
    "    per_month_maps[month] = {\n",
    "        var_name: create_dataArray(var_name, month) for var_name in dict(data).keys()\n",
    "    }\n",
    "\n",
    "for month, data in tqdm(per_month_maps.items()):\n",
    "    for lat in tqdm(subset_model.lat.data):\n",
    "        for lon in subset_model.lon.data:\n",
    "            test_model = subset_model.sel(month=month, lat=lat, lon=lon).data.item()\n",
    "            if not isinstance(test_model, float):\n",
    "                for variable, xr_container in data.items():\n",
    "                    if variable in test_model.params.index:\n",
    "                        xr_container.loc[dict(month=month, lat=lat, lon=lon)] = 1"
   ],
   "outputs": [],
   "metadata": {
    "tags": []
   }
  },
  {
   "cell_type": "code",
   "execution_count": null,
   "source": [
    "for month, data in per_month_maps.items():\n",
    "    plot_data = pd.DataFrame(data.keys(), columns=[\"vars\"])\n",
    "    plot_data[\"color\"] = color_mapping[plot_data[\"vars\"]].values[0]\n",
    "\n",
    "    fig, axs = plt.subplots(\n",
    "        figsize=(8, 12),\n",
    "        dpi=300,\n",
    "        ncols=4,\n",
    "        nrows=4,\n",
    "        sharey=True,\n",
    "        subplot_kw={\"projection\": ccrs.PlateCarree()},\n",
    "    )\n",
    "\n",
    "    for num, (var_name, xr_data) in enumerate(data.items()):\n",
    "        ax = axs.ravel().tolist()[num]\n",
    "        p = ax.pcolormesh(\n",
    "            xr_data.lon.data,\n",
    "            xr_data.lat.data,\n",
    "            xr_data.sel(month=month).data,\n",
    "            cmap=c.ListedColormap(plot_data.query(\"vars==@var_name\")[\"color\"]),\n",
    "            transform=ccrs.PlateCarree(),\n",
    "        )\n",
    "\n",
    "        ax.set_title(f\"{var_name}\", size=6)\n",
    "        plotting.format_latlon(ax, ccrs.PlateCarree(), lon_step=5, lat_step=5)\n",
    "        ax.add_feature(cfeature.BORDERS)\n",
    "        ax.add_feature(cfeature.COASTLINE)\n",
    "        ax.set_extent((-81.25, -68.05, -18.75, 0.95), crs=ccrs.PlateCarree())\n",
    "        ax.tick_params(axis=\"both\", labelsize=5)\n",
    "        ax.gridlines(linewidth=0.5, linestyle=\"--\", alpha=0.5)\n",
    "    for ax in axs.ravel().tolist()[-3:]:\n",
    "        fig.delaxes(ax=ax)\n",
    "    fig.suptitle(\n",
    "        f\"Spatial distribution of most common variables in target month {month:02d}\",\n",
    "        y=0.92,\n",
    "    )\n",
    "    fig.savefig(\n",
    "        os.path.join(PERU_DIR, f\"vars_dist_month{month:02d}_PERU.png\"),\n",
    "        bbox_inches=\"tight\",\n",
    "    )"
   ],
   "outputs": [],
   "metadata": {
    "scrolled": true,
    "tags": []
   }
  },
  {
   "cell_type": "markdown",
   "source": [
    "# MAE NEW - OLD"
   ],
   "metadata": {}
  },
  {
   "cell_type": "code",
   "execution_count": null,
   "source": [
    "months_list = [\n",
    "    \"JAN\",\n",
    "    \"FEB\",\n",
    "    \"MAR\",\n",
    "    \"APR\",\n",
    "    \"MAY\",\n",
    "    \"JUN\",\n",
    "    \"JUL\",\n",
    "    \"AUG\",\n",
    "    \"SEP\",\n",
    "    \"OCT\",\n",
    "    \"NOV\",\n",
    "    \"DEC\",\n",
    "]"
   ],
   "outputs": [],
   "metadata": {
    "tags": []
   }
  },
  {
   "cell_type": "code",
   "execution_count": null,
   "source": [
    "def plot_metric_maps(metric_data, vmax=40, vmin=-40):\n",
    "    fig, axs = plt.subplots(\n",
    "        figsize=(6, 4),\n",
    "        dpi=300,\n",
    "        ncols=4,\n",
    "        nrows=2,\n",
    "        sharey=True,\n",
    "        subplot_kw={\"projection\": ccrs.PlateCarree()},\n",
    "    )\n",
    "\n",
    "    for num, month in enumerate(MONTHS_ORDER):\n",
    "        ax = axs.ravel().tolist()[num]\n",
    "        p = ax.pcolormesh(\n",
    "            metric_data.lon.data,\n",
    "            metric_data.lat.data,\n",
    "            metric_data.sel(month=month).data,\n",
    "            cmap=cmo.cm.balance,\n",
    "            transform=ccrs.PlateCarree(),\n",
    "            vmax=vmax,\n",
    "            vmin=vmin,\n",
    "        )\n",
    "        ax.set_title(f\"Target Month {month:02d}\", size=6)\n",
    "        plotting.format_latlon(ax, ccrs.PlateCarree(), lon_step=5, lat_step=5)\n",
    "        ax.add_feature(cfeature.BORDERS)\n",
    "        ax.add_feature(cfeature.COASTLINE)\n",
    "        ax.set_extent((-81.25, -68.05, -18.75, 0.95), crs=ccrs.PlateCarree())\n",
    "        ax.tick_params(axis=\"both\", labelsize=5)\n",
    "        ax.gridlines(linewidth=0.5, linestyle=\"--\", alpha=0.5)\n",
    "    return fig, axs, p"
   ],
   "outputs": [],
   "metadata": {
    "tags": []
   }
  },
  {
   "cell_type": "code",
   "execution_count": null,
   "source": [
    "DIFF_DIR = os.path.join(PLOTS_DIR, \"Diff\")\n",
    "DIFF_PREV_DIR = os.path.join(DIFF_DIR, \"Prev\")\n",
    "utils.check_folder(DIFF_DIR)\n",
    "utils.check_folder(DIFF_PREV_DIR)"
   ],
   "outputs": [],
   "metadata": {
    "scrolled": true,
    "tags": []
   }
  },
  {
   "cell_type": "code",
   "execution_count": null,
   "source": [
    "for i in range(5):\n",
    "    # Get the current month index from the list\n",
    "    month_index = months_list.index(MONTH) - i\n",
    "\n",
    "    # Get the current and previous month names\n",
    "    prev_month = months_list[month_index - 1]\n",
    "    curr_month = months_list[month_index]\n",
    "\n",
    "    # Load previous data\n",
    "    pred_data_prev = xr.open_dataset(\n",
    "        os.path.join(DATA_DIR, f\"{prev_month}/Data/pred_data_val.nc\")\n",
    "    ).pred_data_val\n",
    "    no_neg_prev = pred_data_prev.where(pred_data_prev >= 0)\n",
    "\n",
    "    # Load current data\n",
    "    pred_data_curr = xr.open_dataset(\n",
    "        os.path.join(DATA_DIR, f\"{curr_month}/Data/pred_data_val.nc\")\n",
    "    ).pred_data_val\n",
    "    no_neg_curr = pred_data_curr.where(pred_data_prev >= 0)\n",
    "\n",
    "    # Do some computation\n",
    "    mae_current = (\n",
    "        np.abs(no_neg_curr.sel(time=slice(None, \"2016-05-01\")) - pisco)\n",
    "        .groupby(\"time.month\")\n",
    "        .mean()\n",
    "    )\n",
    "\n",
    "    mae_prev = (\n",
    "        np.abs(no_neg_prev.sel(time=slice(None, \"2016-05-01\")) - pisco)\n",
    "        .groupby(\"time.month\")\n",
    "        .mean()\n",
    "    )\n",
    "\n",
    "    mae_diff = mae_current - mae_prev\n",
    "\n",
    "    fig, axs, p = plot_metric_maps(mae_diff)\n",
    "    fig.colorbar(p, ax=axs.ravel().tolist(), extend=\"both\")\n",
    "    fig.suptitle(f\"Diferencia de MAE ({curr_month} - {prev_month}) [mm]\")\n",
    "    fig.delaxes(ax=axs.ravel().tolist()[-1])\n",
    "    fig.savefig(\n",
    "        os.path.join(\n",
    "            DIFF_PREV_DIR,\n",
    "            f\"val_pisco_mae_{curr_month.lower()}-{prev_month.lower()}.png\",\n",
    "        ),\n",
    "        bbox_inches=\"tight\",\n",
    "    )\n",
    "\n",
    "    mae_diff_perc = (mae_current - mae_prev) * 100 / mae_prev\n",
    "\n",
    "    fig, axs, p = plot_metric_maps(mae_diff_perc, vmax=100, vmin=-100)\n",
    "    fig.colorbar(p, ax=axs.ravel().tolist(), extend=\"both\")\n",
    "    fig.suptitle(f\"Diferencia de MAE ({curr_month} - {prev_month}) [%]\")\n",
    "    fig.delaxes(ax=axs.ravel().tolist()[-1])\n",
    "    fig.savefig(\n",
    "        os.path.join(\n",
    "            DIFF_PREV_DIR,\n",
    "            f\"val_pisco_mae_{curr_month.lower()}-{prev_month.lower()}_perc.png\",\n",
    "        ),\n",
    "        bbox_inches=\"tight\",\n",
    "    )"
   ],
   "outputs": [],
   "metadata": {
    "scrolled": true,
    "tags": []
   }
  },
  {
   "cell_type": "code",
   "execution_count": null,
   "source": [
    "month_index = months_list.index(MONTH)\n",
    "\n",
    "for i in range(1, 6):\n",
    "    # Get the current and previous month names\n",
    "    prev_month = months_list[month_index - i]\n",
    "    curr_month = months_list[month_index]\n",
    "\n",
    "    # Load previous data\n",
    "    pred_data_prev = xr.open_dataset(\n",
    "        os.path.join(DATA_DIR, f\"{prev_month}/Data/pred_data_val.nc\")\n",
    "    ).pred_data_val\n",
    "    no_neg_prev = pred_data_prev.where(pred_data_prev >= 0)\n",
    "\n",
    "    # Load current data\n",
    "    pred_data_curr = xr.open_dataset(\n",
    "        os.path.join(DATA_DIR, f\"{curr_month}/Data/pred_data_val.nc\")\n",
    "    ).pred_data_val\n",
    "    no_neg_curr = pred_data_curr.where(pred_data_prev >= 0)\n",
    "\n",
    "    # Do some computation\n",
    "    mae_current = (\n",
    "        np.abs(no_neg_curr.sel(time=slice(None, \"2016-05-01\")) - pisco)\n",
    "        .groupby(\"time.month\")\n",
    "        .mean()\n",
    "    )\n",
    "\n",
    "    mae_prev = (\n",
    "        np.abs(no_neg_prev.sel(time=slice(None, \"2016-05-01\")) - pisco)\n",
    "        .groupby(\"time.month\")\n",
    "        .mean()\n",
    "    )\n",
    "\n",
    "    mae_diff = mae_current - mae_prev\n",
    "\n",
    "    fig, axs, p = plot_metric_maps(mae_diff)\n",
    "    fig.colorbar(p, ax=axs.ravel().tolist(), extend=\"both\")\n",
    "    fig.suptitle(f\"Diferencia de MAE ({curr_month} - {prev_month}) [mm]\")\n",
    "    fig.delaxes(ax=axs.ravel().tolist()[-1])\n",
    "    fig.savefig(\n",
    "        os.path.join(\n",
    "            DIFF_DIR, f\"val_pisco_mae_{curr_month.lower()}-{prev_month.lower()}.png\"\n",
    "        ),\n",
    "        bbox_inches=\"tight\",\n",
    "    )\n",
    "\n",
    "    mae_diff_perc = (mae_current - mae_prev) * 100 / mae_prev\n",
    "\n",
    "    fig, axs, p = plot_metric_maps(mae_diff_perc, vmax=100, vmin=-100)\n",
    "    fig.colorbar(p, ax=axs.ravel().tolist(), extend=\"both\")\n",
    "    fig.suptitle(f\"Diferencia de MAE ({curr_month} - {prev_month}) [%]\")\n",
    "    fig.delaxes(ax=axs.ravel().tolist()[-1])\n",
    "    fig.savefig(\n",
    "        os.path.join(\n",
    "            DIFF_DIR,\n",
    "            f\"val_pisco_mae_{curr_month.lower()}-{prev_month.lower()}_perc.png\",\n",
    "        ),\n",
    "        bbox_inches=\"tight\",\n",
    "    )"
   ],
   "outputs": [],
   "metadata": {
    "scrolled": true,
    "tags": []
   }
  },
  {
   "cell_type": "markdown",
   "source": [
    "# Per Year"
   ],
   "metadata": {}
  },
  {
   "cell_type": "code",
   "execution_count": null,
   "source": [
    "PER_YEAR = os.path.join(PLOTS_DIR, \"per_year\")\n",
    "utils.check_folder(PER_YEAR)"
   ],
   "outputs": [],
   "metadata": {
    "tags": []
   }
  },
  {
   "cell_type": "code",
   "execution_count": null,
   "source": [
    "bias = no_neg_val - pisco\n",
    "\n",
    "for year in range(1983, 2017):\n",
    "    bias_sel = bias.sel(time=slice(f\"{year-1}-10-01\", f\"{year}-05-01\"))\n",
    "\n",
    "    fig, axs = plt.subplots(\n",
    "        figsize=(6, 4),\n",
    "        dpi=300,\n",
    "        ncols=4,\n",
    "        nrows=2,\n",
    "        sharey=True,\n",
    "        subplot_kw={\"projection\": ccrs.PlateCarree()},\n",
    "    )\n",
    "\n",
    "    for num, date in enumerate(bias_sel.time.data):\n",
    "        ax = axs.ravel().tolist()[num]\n",
    "        p = ax.pcolormesh(\n",
    "            bias_sel.lon.data,\n",
    "            bias_sel.lat.data,\n",
    "            bias_sel.sel(time=date).data,\n",
    "            cmap=cmo.cm.balance,\n",
    "            transform=ccrs.PlateCarree(),\n",
    "            vmax=150,\n",
    "            vmin=-150,\n",
    "        )\n",
    "        ax.set_title(f\"{pd.to_datetime(date):%Y-%m}\", size=6)\n",
    "        plotting.format_latlon(ax, ccrs.PlateCarree(), lon_step=5, lat_step=5)\n",
    "        ax.add_feature(cfeature.BORDERS)\n",
    "        ax.add_feature(cfeature.COASTLINE)\n",
    "        ax.set_extent((-81.25, -68.05, -18.75, 0.95), crs=ccrs.PlateCarree())\n",
    "        ax.tick_params(axis=\"both\", labelsize=5)\n",
    "        ax.gridlines(linewidth=0.5, linestyle=\"--\", alpha=0.5)\n",
    "    fig.colorbar(p, ax=axs.ravel().tolist(), extend=\"both\")\n",
    "    fig.suptitle(\"Bias (Validation Model - PISCOPrecv2p1) [mm]\")\n",
    "    fig.delaxes(ax=axs.ravel().tolist()[-1])\n",
    "    fig.savefig(\n",
    "        os.path.join(PER_YEAR, f\"{year-1}-{year}.bias.plot.png\"),\n",
    "        bbox_inches=\"tight\",\n",
    "    )\n",
    "    print(f\"Done year {year}\")\n",
    "    plt.close(fig)"
   ],
   "outputs": [],
   "metadata": {
    "scrolled": true,
    "tags": []
   }
  },
  {
   "cell_type": "code",
   "execution_count": null,
   "source": [
    "mae = np.abs(no_neg_val - pisco)\n",
    "for year in range(1983, 2017):\n",
    "    mae_sel = mae.sel(time=slice(f\"{year-1}-10-01\", f\"{year}-05-01\"))\n",
    "\n",
    "    fig, axs = plt.subplots(\n",
    "        figsize=(6, 4),\n",
    "        dpi=300,\n",
    "        ncols=4,\n",
    "        nrows=2,\n",
    "        sharey=True,\n",
    "        subplot_kw={\"projection\": ccrs.PlateCarree()},\n",
    "    )\n",
    "\n",
    "    for num, date in enumerate(mae_sel.time.data):\n",
    "        ax = axs.ravel().tolist()[num]\n",
    "        p = ax.pcolormesh(\n",
    "            mae_sel.lon.data,\n",
    "            mae_sel.lat.data,\n",
    "            mae_sel.sel(time=date).data,\n",
    "            cmap=cmo.cm.tempo,\n",
    "            transform=ccrs.PlateCarree(),\n",
    "            vmax=150,\n",
    "            vmin=0,\n",
    "        )\n",
    "        ax.set_title(f\"{pd.to_datetime(date):%Y-%m}\", size=6)\n",
    "        plotting.format_latlon(ax, ccrs.PlateCarree(), lon_step=5, lat_step=5)\n",
    "        ax.add_feature(cfeature.BORDERS)\n",
    "        ax.add_feature(cfeature.COASTLINE)\n",
    "        ax.set_extent((-81.25, -68.05, -18.75, 0.95), crs=ccrs.PlateCarree())\n",
    "        ax.tick_params(axis=\"both\", labelsize=5)\n",
    "        ax.gridlines(linewidth=0.5, linestyle=\"--\", alpha=0.5)\n",
    "    fig.colorbar(p, ax=axs.ravel().tolist(), extend=\"both\")\n",
    "    fig.suptitle(\"MAE (Validation Model - PISCOPrecv2p1) [mm]\")\n",
    "    fig.delaxes(ax=axs.ravel().tolist()[-1])\n",
    "    fig.savefig(\n",
    "        os.path.join(PER_YEAR, f\"{year-1}-{year}.mae-mm.plot.png\"),\n",
    "        bbox_inches=\"tight\",\n",
    "    )\n",
    "    print(f\"Done year {year}\")\n",
    "    plt.close(fig)"
   ],
   "outputs": [],
   "metadata": {
    "scrolled": true,
    "tags": []
   }
  },
  {
   "cell_type": "code",
   "execution_count": null,
   "source": [
    "mae = (np.abs(no_neg_val - pisco).groupby(\"time.month\")) / pisco.groupby(\n",
    "    \"time.month\"\n",
    ").mean()\n",
    "\n",
    "mae = mae * 100\n",
    "for year in range(1983, 2017):\n",
    "    mae_sel = mae.sel(time=slice(f\"{year-1}-10-01\", f\"{year}-05-01\"))\n",
    "\n",
    "    fig, axs = plt.subplots(\n",
    "        figsize=(6, 4),\n",
    "        dpi=300,\n",
    "        ncols=4,\n",
    "        nrows=2,\n",
    "        sharey=True,\n",
    "        subplot_kw={\"projection\": ccrs.PlateCarree()},\n",
    "    )\n",
    "\n",
    "    for num, date in enumerate(mae_sel.time.data):\n",
    "        ax = axs.ravel().tolist()[num]\n",
    "        p = ax.pcolormesh(\n",
    "            mae_sel.lon.data,\n",
    "            mae_sel.lat.data,\n",
    "            mae_sel.sel(time=date).data,\n",
    "            cmap=cmo.cm.tempo,\n",
    "            transform=ccrs.PlateCarree(),\n",
    "            vmax=100,\n",
    "            vmin=0,\n",
    "        )\n",
    "        ax.set_title(f\"{pd.to_datetime(date):%Y-%m}\", size=6)\n",
    "        plotting.format_latlon(ax, ccrs.PlateCarree(), lon_step=5, lat_step=5)\n",
    "        ax.add_feature(cfeature.BORDERS)\n",
    "        ax.add_feature(cfeature.COASTLINE)\n",
    "        ax.set_extent((-81.25, -68.05, -18.75, 0.95), crs=ccrs.PlateCarree())\n",
    "        ax.tick_params(axis=\"both\", labelsize=5)\n",
    "        ax.gridlines(linewidth=0.5, linestyle=\"--\", alpha=0.5)\n",
    "    fig.colorbar(p, ax=axs.ravel().tolist(), extend=\"both\")\n",
    "    fig.suptitle(\"MAE (Validation Model - PISCOPrecv2p1) [%]\")\n",
    "    fig.delaxes(ax=axs.ravel().tolist()[-1])\n",
    "    fig.savefig(\n",
    "        os.path.join(PER_YEAR, f\"{year-1}-{year}.mae-perc.plot.png\"),\n",
    "        bbox_inches=\"tight\",\n",
    "    )\n",
    "    print(f\"Done year {year}\")\n",
    "    plt.close(fig)"
   ],
   "outputs": [],
   "metadata": {
    "scrolled": true,
    "tags": []
   }
  }
 ],
 "metadata": {
  "kernelspec": {
   "display_name": "Python 3 (ipykernel)",
   "language": "python",
   "name": "python3"
  },
  "language_info": {
   "codemirror_mode": {
    "name": "ipython",
    "version": 3
   },
   "file_extension": ".py",
   "mimetype": "text/x-python",
   "name": "python",
   "nbconvert_exporter": "python",
   "pygments_lexer": "ipython3",
   "version": "3.9.6"
  },
  "widgets": {
   "application/vnd.jupyter.widget-state+json": {
    "state": {},
    "version_major": 2,
    "version_minor": 0
   }
  }
 },
 "nbformat": 4,
 "nbformat_minor": 5
}
